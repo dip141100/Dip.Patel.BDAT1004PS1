{
 "cells": [
  {
   "cell_type": "markdown",
   "id": "f829d8ae",
   "metadata": {},
   "source": [
    "## Question_1\n",
    "## What data type is each of the following (evaluate where necessary)?"
   ]
  },
  {
   "cell_type": "code",
   "execution_count": 4,
   "id": "e1b71f96",
   "metadata": {},
   "outputs": [
    {
     "name": "stdout",
     "output_type": "stream",
     "text": [
      "<class 'int'>\n",
      "<class 'float'>\n",
      "<class 'bool'>\n",
      "<class 'str'>\n",
      "<class 'int'>\n",
      "<class 'str'>\n",
      "<class 'str'>\n",
      "<class 'float'>\n",
      "<class 'int'>\n",
      "<class 'set'>\n",
      "<class 'bool'>\n",
      "<class 'float'>\n"
     ]
    }
   ],
   "source": [
    "a=5\n",
    "print(type(a))\n",
    "\n",
    "a=5.0\n",
    "print(type(a))\n",
    "\n",
    "a=5 < 1\n",
    "print(type(a))\n",
    "\n",
    "a='5'\n",
    "print(type(a))\n",
    "\n",
    "a=5 * 2\n",
    "print(type(a))\n",
    "\n",
    "a='5' * 2\n",
    "print(type(a))\n",
    "\n",
    "a='5' + '2'\n",
    "print(type(a))\n",
    "\n",
    "a=5 / 2\n",
    "print(type(a))\n",
    "\n",
    "a=5 % 2\n",
    "print(type(a))\n",
    "\n",
    "a={5, 2, 1}\n",
    "print(type(a))\n",
    "\n",
    "a=5 == 3\n",
    "print(type(a))\n",
    "\n",
    "a=3.14\n",
    "print(type(a))"
   ]
  },
  {
   "cell_type": "markdown",
   "id": "809dbce8",
   "metadata": {},
   "source": [
    "## Question_2\n",
    "## Write (and evaluate) python expressions that answer these questions:\n",
    "\n",
    "## A:How many letters are there in 'Supercalifragilisticexpialidocious'?"
   ]
  },
  {
   "cell_type": "code",
   "execution_count": 14,
   "id": "31c15c03",
   "metadata": {
    "scrolled": true
   },
   "outputs": [
    {
     "name": "stdout",
     "output_type": "stream",
     "text": [
      "34\n"
     ]
    }
   ],
   "source": [
    "string='Supercalifragilisticexpialidocious'\n",
    "print(len(string))"
   ]
  },
  {
   "cell_type": "markdown",
   "id": "3f86c5be",
   "metadata": {},
   "source": [
    "## B:Does 'Supercalifragilisticexpialidocious' contain 'ice' as a substring? \n",
    "\n"
   ]
  },
  {
   "cell_type": "code",
   "execution_count": 15,
   "id": "26c9159e",
   "metadata": {},
   "outputs": [
    {
     "name": "stdout",
     "output_type": "stream",
     "text": [
      "True\n"
     ]
    }
   ],
   "source": [
    "string='Supercalifragilisticexpialidocious' \n",
    "substring='ice' \n",
    "print(substring in string)"
   ]
  },
  {
   "cell_type": "markdown",
   "id": "620fbdf0",
   "metadata": {},
   "source": [
    "## C:Which of the following words is the longest: \n",
    "## 'Supercalifragilisticexpialidocious','Honorificabilitudinitatibus' or 'Bababadalgharaghtakamminarronnkonn'? "
   ]
  },
  {
   "cell_type": "code",
   "execution_count": 18,
   "id": "baff6861",
   "metadata": {},
   "outputs": [
    {
     "name": "stdout",
     "output_type": "stream",
     "text": [
      "Longest Word :  Supercalifragilisticexpialidocious\n"
     ]
    }
   ],
   "source": [
    "words=('Supercalifragilisticexpialidocious','Honorificabilitudinitatibus','Bababadalgharaghtakamminarronnkonn')\n",
    "longest_word=max(words, key=len)\n",
    "print('Longest Word : ', longest_word)"
   ]
  },
  {
   "cell_type": "markdown",
   "id": "81c0ef32",
   "metadata": {},
   "source": [
    "## D: Which composer comes first in the dictionary: \n",
    "## 'Berlioz', 'Borodin', 'Brian', 'Bartok', 'Bellini', 'Buxtehude', 'Bernstein'. Which one comes last?"
   ]
  },
  {
   "cell_type": "code",
   "execution_count": 19,
   "id": "c35b1a24",
   "metadata": {},
   "outputs": [
    {
     "name": "stdout",
     "output_type": "stream",
     "text": [
      "First composer in the dictionary: Bartok\n",
      "Last composer in the dictionary: Buxtehude\n"
     ]
    }
   ],
   "source": [
    "composers = ['Berlioz', 'Borodin', 'Brian', 'Bartok', 'Bellini', 'Buxtehude', 'Bernstein']\n",
    "\n",
    "first_composer = min(composers)\n",
    "last_composer = max(composers)\n",
    "\n",
    "print(\"First composer in the dictionary:\", first_composer)\n",
    "print(\"Last composer in the dictionary:\", last_composer)"
   ]
  },
  {
   "cell_type": "markdown",
   "id": "b5a4476c",
   "metadata": {},
   "source": [
    "## Question_3\n",
    "## Implement function triangleArea(a,b,c) that takes as input the lengths of the 3 sides of a triangle and returns the area of the triangle. By Heron's formula, the area of a triangle with side lengths a, b, and c is  s(s - a)(s -b)(s -c), where s = (a+b+c)/2."
   ]
  },
  {
   "cell_type": "code",
   "execution_count": 1,
   "id": "fcbbaca6",
   "metadata": {},
   "outputs": [
    {
     "name": "stdout",
     "output_type": "stream",
     "text": [
      "The area of the triangle is: 1.7320508075688772\n"
     ]
    }
   ],
   "source": [
    "import math\n",
    "\n",
    "def triangleArea(a, b, c):\n",
    "    s = (a + b + c) / 2\n",
    "    area = math.sqrt(s * (s - a) * (s - b) * (s - c))\n",
    "    return area\n",
    "\n",
    "area = triangleArea(2, 2, 2)\n",
    "print(\"The area of the triangle is:\", area)\n"
   ]
  },
  {
   "cell_type": "markdown",
   "id": "a10a9f9b",
   "metadata": {},
   "source": [
    "## Question_4\n",
    "## Write a program in python to separate odd and even integers in separate arrays."
   ]
  },
  {
   "cell_type": "code",
   "execution_count": 3,
   "id": "a83add91",
   "metadata": {},
   "outputs": [
    {
     "name": "stdout",
     "output_type": "stream",
     "text": [
      "The Even elements are:\n",
      "[42, 56, 32]\n",
      "The Odd elements are:\n",
      "[25, 47]\n"
     ]
    }
   ],
   "source": [
    "def separateOddEven(array):\n",
    "    even = []\n",
    "    odd = []\n",
    "    for num in array:\n",
    "        if num % 2 == 0:\n",
    "            even.append(num)\n",
    "        else:\n",
    "            odd.append(num)\n",
    "    return even, odd\n",
    "\n",
    "array = [25, 47, 42, 56, 32]\n",
    "\n",
    "even_numbers, odd_numbers = separateOddEven(array)\n",
    "\n",
    "print(\"The Even elements are:\")\n",
    "print(even_numbers)\n",
    "\n",
    "print(\"The Odd elements are:\")\n",
    "print(odd_numbers)\n"
   ]
  },
  {
   "cell_type": "markdown",
   "id": "8a631f2e",
   "metadata": {},
   "source": [
    "## Question_5\n",
    "## A) Write a function inside(x,y,x1,y1,x2,y2) that returns True or False depending on whether the point (x,y) lies in the rectangle with lower left corner (x1,y1) and upper right corner (x2,y2)."
   ]
  },
  {
   "cell_type": "code",
   "execution_count": 5,
   "id": "ee835450",
   "metadata": {},
   "outputs": [
    {
     "name": "stdout",
     "output_type": "stream",
     "text": [
      "True\n"
     ]
    }
   ],
   "source": [
    "def inside(x, y, x1, y1, x2, y2):\n",
    "    if x1 <= x <= x2 and y1 <= y <= y2:\n",
    "        return True\n",
    "    else:\n",
    "        return False\n",
    "x = 1\n",
    "y = 1\n",
    "x1 = 0\n",
    "y1 = 0\n",
    "x2 = 2\n",
    "y2 = 3\n",
    "\n",
    "result = inside(x, y, x1, y1, x2, y2)\n",
    "print(result)\n"
   ]
  },
  {
   "cell_type": "code",
   "execution_count": 6,
   "id": "bff09d77",
   "metadata": {},
   "outputs": [
    {
     "name": "stdout",
     "output_type": "stream",
     "text": [
      "False\n"
     ]
    }
   ],
   "source": [
    "def inside(x, y, x1, y1, x2, y2):\n",
    "    if x1 <= x <= x2 and y1 <= y <= y2:\n",
    "        return True\n",
    "    else:\n",
    "        return False\n",
    "x = -1\n",
    "y = -1\n",
    "x1 = 0\n",
    "y1 = 0\n",
    "x2 = 2\n",
    "y2 = 3\n",
    "\n",
    "result = inside(x, y, x1, y1, x2, y2)\n",
    "print(result)\n"
   ]
  },
  {
   "cell_type": "markdown",
   "id": "d4fc1645",
   "metadata": {},
   "source": [
    "## B) Use function inside() from part a. to write an expression that tests whether the point (1,1) lies in both of the following rectangles: one with lower left corner (0.3, 0.5) and upper right corner (1.1, 0.7) and the other with lower left corner (0.5, 0.2) and upper right corner (1.1,2). "
   ]
  },
  {
   "cell_type": "code",
   "execution_count": 2,
   "id": "de1d03e8",
   "metadata": {},
   "outputs": [
    {
     "name": "stdout",
     "output_type": "stream",
     "text": [
      "False\n"
     ]
    }
   ],
   "source": [
    "def inside(x, y, x1, y1, x2, y2):\n",
    "if x >= x1 and x <= x2 and y >= y1 and y <= y2:\n",
    "        return True\n",
    "    else:\n",
    "        return False\n",
    "x = 1\n",
    "y = 1\n",
    "\n",
    "# Rectangle1\n",
    "x1_rect1 = 0.3\n",
    "y1_rect1 = 0.5\n",
    "x2_rect1 = 1.1\n",
    "y2_rect1 = 0.7\n",
    "\n",
    "# Rectangle2\n",
    "x1_rect2 = 0.5\n",
    "y1_rect2 = 0.2\n",
    "x2_rect2 = 1.1\n",
    "y2_rect2 = 2\n",
    "\n",
    "result = inside(x, y, x1_rect1, y1_rect1, x2_rect1, y2_rect1) and inside(x, y, x1_rect2, y1_rect2, x2_rect2, y2_rect2)\n",
    "\n",
    "print(result)"
   ]
  },
  {
   "cell_type": "markdown",
   "id": "eaaa900c",
   "metadata": {},
   "source": [
    "## Question_6\n",
    "## You can turn a word into pig-Latin using the following two rules (simplified):\n",
    "## If the word starts with a consonant, move that letter to the end and append 'ay'. For example, 'happy' becomes 'appyhay' and 'pencil' becomes 'encilpay'.\n",
    "## If the word starts with a vowel, simply append 'way' to the end of the word. For example, 'enter' becomes 'enterway' and 'other' becomes 'otherway' . For our purposes, there are 5 vowels: a, e, i, o, u (so we count y as a consonant).\n",
    "## Write a function pig() that takes a word (i.e., a string) as input and returns its pig\u0002Latin form. Your function should still work if the input word contains upper case characters. Your output should always be lower case however."
   ]
  },
  {
   "cell_type": "code",
   "execution_count": 10,
   "id": "6378ca27",
   "metadata": {},
   "outputs": [
    {
     "name": "stdout",
     "output_type": "stream",
     "text": [
      "ippatelday\n"
     ]
    }
   ],
   "source": [
    "input_word = 'DipPatel'\n",
    "pig_latin_word = pig(input_word)\n",
    "print(pig_latin_word)\n",
    "\n",
    "def pig(word):\n",
    "    word = word.lower()\n",
    "    vowels = ['a', 'e', 'i', 'o', 'u']\n",
    "    \n",
    "    if word[0] in vowels:\n",
    "        pig_latin = word + 'way'\n",
    "    else:\n",
    "        pig_latin = word[1:] + word[0] + 'ay'\n",
    "\n",
    "    return pig_latin"
   ]
  },
  {
   "cell_type": "code",
   "execution_count": 11,
   "id": "db5048b1",
   "metadata": {},
   "outputs": [
    {
     "name": "stdout",
     "output_type": "stream",
     "text": [
      "iamdippatelway\n"
     ]
    }
   ],
   "source": [
    "input_word = 'IamDipPatel'\n",
    "pig_latin_word = pig(input_word)\n",
    "print(pig_latin_word)\n",
    "\n",
    "def pig(word):\n",
    "    word = word.lower()\n",
    "    vowels = ['a', 'e', 'i', 'o', 'u']\n",
    "    \n",
    "    if word[0] in vowels:\n",
    "        pig_latin = word + 'way'\n",
    "    else:\n",
    "        pig_latin = word[1:] + word[0] + 'ay'\n",
    "\n",
    "    return pig_latin"
   ]
  },
  {
   "cell_type": "markdown",
   "id": "a5d7e9ab",
   "metadata": {},
   "source": [
    "## Question_7\n",
    "## File bloodtype1.txt records blood-types of patients (A, B, AB, O or OO) at a clinic. \n",
    "## Write a function bldcount() that reads the file with name name and reports (i.e., prints) how many patients there are in each bloodtype."
   ]
  },
  {
   "cell_type": "code",
   "execution_count": 15,
   "id": "0191ef70",
   "metadata": {},
   "outputs": [
    {
     "name": "stdout",
     "output_type": "stream",
     "text": [
      "There are 15 patients with blood type A.\n",
      "There are 1 patients with blood type B.\n",
      "There are 13 patients with blood type AB.\n",
      "There are 15 patients with blood type O.\n",
      "There are 0 patients with blood type OO.\n"
     ]
    }
   ],
   "source": [
    "def bldcount(bloodtype1_txt):\n",
    "    counts = {'A': 0, 'B': 0, 'AB': 0, 'O': 0, 'OO': 0}\n",
    "\n",
    "    with open('bloodtype1.txt', 'r') as file:\n",
    "        for line in file:\n",
    "            blood_type = line.strip()  \n",
    "\n",
    "            if blood_type in counts:\n",
    "                counts[blood_type] += 1  \n",
    "\n",
    "    for blood_type, count in counts.items():\n",
    "        print(f\"There are {count} patients with blood type {blood_type}.\")\n",
    "        \n",
    "bldcount('bloodtype1.txt')      "
   ]
  },
  {
   "cell_type": "markdown",
   "id": "cd2a486d",
   "metadata": {},
   "source": [
    "## Question_8\n",
    "## Write a function curconv() that takes as input:\n",
    "## 1. a currency represented using a string (e.g., 'JPY' for the Japanese Yen or 'EUR' for the Euro)\n",
    "## 2. an amountand then converts and returns the amount in US dollars."
   ]
  },
  {
   "cell_type": "code",
   "execution_count": 7,
   "id": "4f9fb0a6",
   "metadata": {},
   "outputs": [
    {
     "name": "stdout",
     "output_type": "stream",
     "text": [
      "122.96544\n",
      "1.241401\n"
     ]
    }
   ],
   "source": [
    "def curconv(currency, amount):\n",
    "    try:\n",
    "        with open('E:\\Big Data Analytics 2023\\Data Programming BDAT1004-03\\ProblemSet1\\currencies.txt', 'r') as file:\n",
    "            lines = file.readlines()\n",
    "            for line in lines:\n",
    "                parts = line.split()\n",
    "                if parts[0] == currency:\n",
    "                    exchange_rate = float(parts[1])\n",
    "                    converted_amount = amount * exchange_rate\n",
    "                    return converted_amount\n",
    "\n",
    "        print(\"Currency not found.\")\n",
    "        return None\n",
    "\n",
    "    except FileNotFoundError:\n",
    "        print(\"Currency conversion data not available.\")\n",
    "        return None\n",
    "    \n",
    "us_dollars = curconv('EUR', 100)\n",
    "if us_dollars is not None:\n",
    "    print(us_dollars)\n",
    "\n",
    "us_dollars = curconv('JPY', 100)\n",
    "if us_dollars is not None:\n",
    "    print(us_dollars)"
   ]
  },
  {
   "cell_type": "markdown",
   "id": "e51813c1",
   "metadata": {},
   "source": [
    "## Question_9\n",
    "## Each of the following will cause an exception (an error). Identify what type of exception each will cause."
   ]
  },
  {
   "cell_type": "code",
   "execution_count": 20,
   "id": "b3acfc6b",
   "metadata": {},
   "outputs": [
    {
     "name": "stdout",
     "output_type": "stream",
     "text": [
      "TypeError: unsupported operand type(s) for +: 'int' and 'str'\n",
      "IndexError: list index out of range\n",
      "ValueError: math domain error\n",
      "NameError: name 'x' is not defined\n",
      "FileNotFoundError: [Errno 2] No such file or directory: 'Dip.txt'\n"
     ]
    }
   ],
   "source": [
    "import math\n",
    "\n",
    "try:\n",
    "    result = 6 + 'a'\n",
    "except TypeError as e:\n",
    "    print(\"TypeError:\", e)\n",
    "\n",
    "my_list = [1, 2, 3, 4, 5, 6, 7, 8, 9, 10]\n",
    "try:\n",
    "    item = my_list[12]\n",
    "except IndexError as e:\n",
    "    print(\"IndexError:\", e)\n",
    "\n",
    "try:\n",
    "    sqrt_result = math.sqrt(-1.0)\n",
    "except ValueError as e:\n",
    "    print(\"ValueError:\", e)\n",
    "\n",
    "try:\n",
    "    print(x)\n",
    "except NameError as e:\n",
    "    print(\"NameError:\", e)\n",
    "\n",
    "try:\n",
    "    with open('Dip.txt', 'r') as file:\n",
    "        pass\n",
    "except FileNotFoundError as e:\n",
    "    print(\"FileNotFoundError:\", e)"
   ]
  },
  {
   "cell_type": "markdown",
   "id": "5014a8d1",
   "metadata": {},
   "source": [
    "## Question_10\n",
    "## Write a function called frequencies() that takes a string as its only parameter, and returns a list of integers, showing the number of times each character appears in the text. Your function may ignore any characters that are not in letters. "
   ]
  },
  {
   "cell_type": "code",
   "execution_count": 41,
   "id": "e6dc9cc3",
   "metadata": {},
   "outputs": [
    {
     "name": "stdout",
     "output_type": "stream",
     "text": [
      "[1, 1, 1, 3, 5, 1, 1, 2, 1, 0, 1, 0, 1, 2, 4, 0, 1, 2, 0, 3, 1, 0, 1, 1, 0, 0]\n"
     ]
    }
   ],
   "source": [
    "def frequencies(text):\n",
    "    letters = 'abcdefghijklmnopqrstuvwxyz'\n",
    "    freq_list = [0] * 26  # Initialize a list with 26 zeros for each letter\n",
    "\n",
    "    for char in text.lower():\n",
    "        if char in letters:\n",
    "            index = letters.index(char)  # Get the index of the character in the letters string\n",
    "            freq_list[index] += 1\n",
    "\n",
    "    return freq_list\n",
    "\n",
    "encrypted_text = \"The quick red fox got bored and went home.\"\n",
    "frequency_list = frequencies(encrypted_text)\n",
    "print(frequency_list)"
   ]
  },
  {
   "cell_type": "code",
   "execution_count": 42,
   "id": "9ae2e8ed",
   "metadata": {},
   "outputs": [
    {
     "name": "stdout",
     "output_type": "stream",
     "text": [
      "[1, 0, 0, 0, 1, 0, 0, 0, 0, 0, 0, 1, 0, 0, 0, 2, 0, 0, 0, 0, 0, 0, 0, 0, 0, 0]\n"
     ]
    }
   ],
   "source": [
    "def frequencies(text):\n",
    "    letters = 'abcdefghijklmnopqrstuvwxyz'\n",
    "    freq_list = [0] * len(letters) \n",
    "\n",
    "    for char in text.lower():\n",
    "        if char in letters:\n",
    "            index = letters.index(char) \n",
    "            freq_list[index] += 1\n",
    "\n",
    "    return freq_list\n",
    "\n",
    "encrypted_text = \"apple\"\n",
    "frequency_list = frequencies(encrypted_text)\n",
    "print(frequency_list)"
   ]
  }
 ],
 "metadata": {
  "kernelspec": {
   "display_name": "Python 3 (ipykernel)",
   "language": "python",
   "name": "python3"
  },
  "language_info": {
   "codemirror_mode": {
    "name": "ipython",
    "version": 3
   },
   "file_extension": ".py",
   "mimetype": "text/x-python",
   "name": "python",
   "nbconvert_exporter": "python",
   "pygments_lexer": "ipython3",
   "version": "3.10.9"
  }
 },
 "nbformat": 4,
 "nbformat_minor": 5
}
